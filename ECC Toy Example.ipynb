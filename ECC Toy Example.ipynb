{
 "cells": [
  {
   "cell_type": "code",
   "execution_count": 35,
   "metadata": {},
   "outputs": [
    {
     "data": {
      "image/png": "[encoded data removed]",
      "text/plain": [
       "<Figure size 432x288 with 1 Axes>"
      ]
     },
     "metadata": {
      "needs_background": "light"
     },
     "output_type": "display_data"
    }
   ],
   "source": [
    "import matplotlib.pyplot as plt\n",
    "import math \n",
    "\n",
    "#Coefficients for elliptic function\n",
    "a = -4\n",
    "b = -2\n",
    "\n",
    "#Range of domain\n",
    "lower_val = -10\n",
    "upper_val = 10\n",
    "\n",
    "#How many points to sample per unit\n",
    "resolution = 60\n",
    "\n",
    "x_points = []\n",
    "y_points = []\n",
    "for i in range((upper_val - lower_val)*resolution):\n",
    "\n",
    "    # This is the point on the graph that we are going to map\n",
    "    x = lower_val + i * (1/resolution)\n",
    "    try:\n",
    "        # Calculates the two possible points lying 'above' that point on the graph\n",
    "        point = math.sqrt(x**3 + a*x + b)\n",
    "\n",
    "        x_points.append(x)\n",
    "        x_points.append(x)\n",
    "\n",
    "        y_points.append(point)\n",
    "        y_points.append(-point)\n",
    "    except:\n",
    "        pass\n",
    "\n",
    "plt.plot(x_points, y_points, ',', color='black')\n",
    "plt.show()"
   ]
  },
  {
   "cell_type": "code",
   "execution_count": null,
   "metadata": {},
   "outputs": [],
   "source": []
  }
 ],
 "metadata": {
  "kernelspec": {
   "display_name": "Python 3",
   "language": "python",
   "name": "python3"
  },
  "language_info": {
   "codemirror_mode": {
    "name": "ipython",
    "version": 3
   },
   "file_extension": ".py",
   "mimetype": "text/x-python",
   "name": "python",
   "nbconvert_exporter": "python",
   "pygments_lexer": "ipython3",
   "version": "3.7.4"
  }
 },
 "nbformat": 4,
 "nbformat_minor": 2
}
